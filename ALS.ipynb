{
 "cells": [
  {
   "cell_type": "code",
   "execution_count": 1,
   "metadata": {},
   "outputs": [],
   "source": [
    "import pandas as pd\n",
    "import numpy as np\n",
    "import seaborn as sns\n",
    "import matplotlib.pyplot as plt\n",
    "import math\n",
    "\n",
    "import findspark\n",
    "findspark.init()\n",
    "\n",
    "import pyspark\n",
    "findspark.find()\n",
    "\n",
    "from pyspark.sql import SparkSession\n",
    "from pyspark.sql.functions import count\n",
    "\n",
    "from pyspark.ml.recommendation import ALS\n",
    "from pyspark.ml.evaluation import RegressionEvaluator\n",
    "\n",
    "spark = (SparkSession\n",
    "         .builder\n",
    "         .appName(\"ALS recommendation spark session\")\n",
    "         .getOrCreate())"
   ]
  },
  {
   "cell_type": "markdown",
   "metadata": {},
   "source": [
    "Đọc dữ liệu"
   ]
  },
  {
   "cell_type": "code",
   "execution_count": 2,
   "metadata": {},
   "outputs": [
    {
     "name": "stdout",
     "output_type": "stream",
     "text": [
      "+--------------+----------+------+----------+\n",
      "|        UserId| ProductId|Rating| Timestamp|\n",
      "+--------------+----------+------+----------+\n",
      "|A39HTATAQ9V7YF|0205616461|   5.0|1369699200|\n",
      "|A3JM6GV9MNOF9X|0558925278|   3.0|1355443200|\n",
      "|A1Z513UWSAAO0F|0558925278|   5.0|1404691200|\n",
      "|A1WMRR494NWEWV|0733001998|   4.0|1382572800|\n",
      "|A3IAAVS479H7M7|0737104473|   1.0|1274227200|\n",
      "+--------------+----------+------+----------+\n",
      "only showing top 5 rows\n",
      "\n"
     ]
    }
   ],
   "source": [
    "ratingData = (spark.read\n",
    "          .option(\"HEADER\", True)\n",
    "          .option(\"inferSchema\", True)\n",
    "          .csv(\"ratings_Beauty.csv\")\n",
    "         )\n",
    "\n",
    "ratingData.show(5)"
   ]
  },
  {
   "cell_type": "code",
   "execution_count": 3,
   "metadata": {},
   "outputs": [
    {
     "name": "stdout",
     "output_type": "stream",
     "text": [
      "+--------------+------+----------+\n",
      "|        UserId|Rating| ProductId|\n",
      "+--------------+------+----------+\n",
      "|A39HTATAQ9V7YF|   5.0|0205616461|\n",
      "|A3JM6GV9MNOF9X|   3.0|0558925278|\n",
      "|A1Z513UWSAAO0F|   5.0|0558925278|\n",
      "|A1WMRR494NWEWV|   4.0|0733001998|\n",
      "|A3IAAVS479H7M7|   1.0|0737104473|\n",
      "+--------------+------+----------+\n",
      "only showing top 5 rows\n",
      "\n"
     ]
    }
   ],
   "source": [
    "nd=ratingData.select(ratingData['UserId'],ratingData['Rating'],ratingData['ProductId'])\n",
    "nd.show(5)"
   ]
  },
  {
   "cell_type": "markdown",
   "metadata": {},
   "source": [
    "Chuyển cột UserId (kiểu string) thành label1 (kiểu double)"
   ]
  },
  {
   "cell_type": "code",
   "execution_count": 4,
   "metadata": {},
   "outputs": [
    {
     "name": "stdout",
     "output_type": "stream",
     "text": [
      "+--------------+------+----------+------------+---------------+\n",
      "|        UserId|Rating| ProductId|UserId_index|ProductId_index|\n",
      "+--------------+------+----------+------------+---------------+\n",
      "|A39HTATAQ9V7YF|   5.0|0205616461|     49380.0|        43788.0|\n",
      "|A3JM6GV9MNOF9X|   3.0|0558925278|    263677.0|        28932.0|\n",
      "|A1Z513UWSAAO0F|   5.0|0558925278|    142369.0|        28932.0|\n",
      "|A1WMRR494NWEWV|   4.0|0733001998|    137071.0|        43789.0|\n",
      "|A3IAAVS479H7M7|   1.0|0737104473|    260907.0|        43790.0|\n",
      "| AKJHHD5VEH7VG|   5.0|0762451459|       186.0|        43791.0|\n",
      "|A1BG8QW55XHN6U|   5.0|1304139212|       619.0|        43792.0|\n",
      "|A22VW0P4VZHDE3|   5.0|1304139220|      2034.0|        43793.0|\n",
      "|A3V3RE4132GKRO|   5.0|130414089X|    288317.0|        43794.0|\n",
      "|A327B0I7CYTEJC|   4.0|130414643X|    226073.0|        21588.0|\n",
      "+--------------+------+----------+------------+---------------+\n",
      "only showing top 10 rows\n",
      "\n"
     ]
    }
   ],
   "source": [
    "from pyspark.ml.feature import StringIndexer\n",
    "from pyspark.ml import Pipeline\n",
    "\n",
    "indexer = [StringIndexer(inputCol=column, outputCol=column+\"_index\") \n",
    "for column in list(set(nd.columns)-set(['Rating'])) ]\n",
    "pipeline = Pipeline(stages=indexer)\n",
    "transformed = pipeline.fit(nd).transform(nd)\n",
    "transformed.show(10)"
   ]
  },
  {
   "cell_type": "markdown",
   "metadata": {},
   "source": [
    "Chuyển cột productId (kiểu string) thành label2 (kiểu double)"
   ]
  },
  {
   "cell_type": "markdown",
   "metadata": {},
   "source": [
    "Khởi tạo sparkDataFrame từ pandas dataFrame"
   ]
  },
  {
   "cell_type": "code",
   "execution_count": 5,
   "metadata": {},
   "outputs": [],
   "source": [
    "(train, test) = transformed.randomSplit([.8, .2], seed = 1)"
   ]
  },
  {
   "cell_type": "code",
   "execution_count": 6,
   "metadata": {},
   "outputs": [],
   "source": [
    "als=ALS(maxIter=1,regParam=0.09,rank=25,userCol=\"UserId_index\",itemCol=\"ProductId_index\",\n",
    "ratingCol=\"Rating\",coldStartStrategy=\"drop\",nonnegative=True)\n",
    "model=als.fit(train)"
   ]
  },
  {
   "cell_type": "markdown",
   "metadata": {},
   "source": [
    " Xây dựng và đánh giá mô hình ALS trên pyspark."
   ]
  },
  {
   "cell_type": "markdown",
   "metadata": {},
   "source": [
    "Tính RMSE"
   ]
  },
  {
   "cell_type": "code",
   "execution_count": 7,
   "metadata": {},
   "outputs": [
    {
     "name": "stdout",
     "output_type": "stream",
     "text": [
      "RMSE=3.0772670795474943\n",
      "+--------------+------+----------+------------+---------------+----------+\n",
      "|        UserId|Rating| ProductId|UserId_index|ProductId_index|prediction|\n",
      "+--------------+------+----------+------------+---------------+----------+\n",
      "| A96FRN3LGYUX9|   5.0|B005XIDZHO|       451.0|           26.0|0.73248327|\n",
      "|A25G3M46N5BEW2|   5.0|B005XIDZHO|      8782.0|           26.0| 0.3127757|\n",
      "|A1H691MQUAA31K|   5.0|B005XIDZHO|     13960.0|           26.0| 0.5683287|\n",
      "|A38JDRJ4SK0KN2|   5.0|B005XIDZHO|     49061.0|           26.0| 0.1787904|\n",
      "| AICDTM94WTGZH|   5.0|B005XIDZHO|     60369.0|           26.0|  0.870149|\n",
      "| ANKUJGLW1TFXH|   5.0|B005XIDZHO|     61933.0|           26.0|0.34665826|\n",
      "|A256NW4OC7466Z|   5.0|B005XIDZHO|      2768.0|           26.0|0.79248327|\n",
      "|A3A7WDJ5FF4BD1|   1.0|B005XIDZHO|      3045.0|           26.0| 0.5653503|\n",
      "|A2WHUNQ6R2NBHH|   3.0|B005XIDZHO|      9783.0|           26.0| 1.8064873|\n",
      "|A349QJY8WW4TB5|   5.0|B005XIDZHO|     10070.0|           26.0| 0.1317767|\n",
      "+--------------+------+----------+------------+---------------+----------+\n",
      "only showing top 10 rows\n",
      "\n"
     ]
    }
   ],
   "source": [
    "# Xây dựng mô hình recommendation sử dụng thuật toán ALS trên tập dữ liệu huấn luyện\n",
    "evaluator=RegressionEvaluator(metricName=\"rmse\",labelCol=\"Rating\",predictionCol=\"prediction\")\n",
    "predictions=model.transform(test)\n",
    "rmse=evaluator.evaluate(predictions)\n",
    "print(\"RMSE=\"+str(rmse))\n",
    "predictions.show(10)"
   ]
  }
 ],
 "metadata": {
  "kernelspec": {
   "display_name": "Python 3",
   "language": "python",
   "name": "python3"
  },
  "language_info": {
   "codemirror_mode": {
    "name": "ipython",
    "version": 3
   },
   "file_extension": ".py",
   "mimetype": "text/x-python",
   "name": "python",
   "nbconvert_exporter": "python",
   "pygments_lexer": "ipython3",
   "version": "3.7.8"
  },
  "orig_nbformat": 4,
  "vscode": {
   "interpreter": {
    "hash": "5109d816b82be14675a6b11f8e0f0d2e80f029176ed3710d54e125caa8520dfd"
   }
  }
 },
 "nbformat": 4,
 "nbformat_minor": 2
}
