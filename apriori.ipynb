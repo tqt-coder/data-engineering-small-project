{
 "cells": [
  {
   "cell_type": "markdown",
   "metadata": {},
   "source": [
    "### Thư viện sử dụng"
   ]
  },
  {
   "cell_type": "code",
   "execution_count": 1,
   "metadata": {},
   "outputs": [],
   "source": [
    "import pandas as pd\n",
    "import numpy as np\n",
    "import seaborn as sns\n",
    "import matplotlib.pyplot as plt\n",
    "from wordcloud import WordCloud\n",
    "import math"
   ]
  },
  {
   "cell_type": "code",
   "execution_count": 2,
   "metadata": {},
   "outputs": [],
   "source": [
    "dataset_ratings=pd.read_csv(\"ratings_Beauty.csv\")"
   ]
  },
  {
   "cell_type": "markdown",
   "metadata": {},
   "source": [
    "Xem số dòng và cột"
   ]
  },
  {
   "cell_type": "code",
   "execution_count": 3,
   "metadata": {},
   "outputs": [
    {
     "data": {
      "text/plain": [
       "(493800, 4)"
      ]
     },
     "execution_count": 3,
     "metadata": {},
     "output_type": "execute_result"
    }
   ],
   "source": [
    "dataset_ratings.shape"
   ]
  },
  {
   "cell_type": "markdown",
   "metadata": {},
   "source": [
    "Số dòng dữ liệu cho từng cột"
   ]
  },
  {
   "cell_type": "code",
   "execution_count": 4,
   "metadata": {},
   "outputs": [
    {
     "data": {
      "text/plain": [
       "UserId       493800\n",
       "ProductId    493800\n",
       "Rating       493800\n",
       "Timestamp    493800\n",
       "dtype: int64"
      ]
     },
     "execution_count": 4,
     "metadata": {},
     "output_type": "execute_result"
    }
   ],
   "source": [
    "dataset_ratings.count()"
   ]
  },
  {
   "cell_type": "markdown",
   "metadata": {},
   "source": [
    "Trình bày tập dữ liệu"
   ]
  },
  {
   "cell_type": "code",
   "execution_count": 5,
   "metadata": {},
   "outputs": [
    {
     "data": {
      "text/plain": [
       "<bound method NDFrame.head of                 UserId   ProductId  Rating   Timestamp\n",
       "0       A39HTATAQ9V7YF  0205616461     5.0  1369699200\n",
       "1       A3JM6GV9MNOF9X  0558925278     3.0  1355443200\n",
       "2       A1Z513UWSAAO0F  0558925278     5.0  1404691200\n",
       "3       A1WMRR494NWEWV  0733001998     4.0  1382572800\n",
       "4       A3IAAVS479H7M7  0737104473     1.0  1274227200\n",
       "...                ...         ...     ...         ...\n",
       "493795   AEP1F83XRQKNB  B00FGJGNGU     2.0  1391212800\n",
       "493796  A26A7Q6R1GMCFP  B00FGJGNGU     5.0  1403395200\n",
       "493797  A3J15VAR3I5RJZ  B00FGJGNGU     5.0  1385683200\n",
       "493798   ALVJJCDAH5SXB  B00FGJJ9OI     5.0  1397779200\n",
       "493799  A22UH3YMSE8QFF  B00FGJJ9OI     4.0  1397088000\n",
       "\n",
       "[493800 rows x 4 columns]>"
      ]
     },
     "execution_count": 5,
     "metadata": {},
     "output_type": "execute_result"
    }
   ],
   "source": [
    "dataset_ratings.head"
   ]
  },
  {
   "cell_type": "markdown",
   "metadata": {},
   "source": [
    "Trình bày 5 dòng dữ liệu đầu tiên"
   ]
  },
  {
   "cell_type": "code",
   "execution_count": 6,
   "metadata": {},
   "outputs": [
    {
     "data": {
      "text/html": [
       "<div>\n",
       "<style scoped>\n",
       "    .dataframe tbody tr th:only-of-type {\n",
       "        vertical-align: middle;\n",
       "    }\n",
       "\n",
       "    .dataframe tbody tr th {\n",
       "        vertical-align: top;\n",
       "    }\n",
       "\n",
       "    .dataframe thead th {\n",
       "        text-align: right;\n",
       "    }\n",
       "</style>\n",
       "<table border=\"1\" class=\"dataframe\">\n",
       "  <thead>\n",
       "    <tr style=\"text-align: right;\">\n",
       "      <th></th>\n",
       "      <th>UserId</th>\n",
       "      <th>ProductId</th>\n",
       "      <th>Rating</th>\n",
       "      <th>Timestamp</th>\n",
       "    </tr>\n",
       "  </thead>\n",
       "  <tbody>\n",
       "    <tr>\n",
       "      <th>0</th>\n",
       "      <td>A39HTATAQ9V7YF</td>\n",
       "      <td>0205616461</td>\n",
       "      <td>5.0</td>\n",
       "      <td>1369699200</td>\n",
       "    </tr>\n",
       "    <tr>\n",
       "      <th>1</th>\n",
       "      <td>A3JM6GV9MNOF9X</td>\n",
       "      <td>0558925278</td>\n",
       "      <td>3.0</td>\n",
       "      <td>1355443200</td>\n",
       "    </tr>\n",
       "    <tr>\n",
       "      <th>2</th>\n",
       "      <td>A1Z513UWSAAO0F</td>\n",
       "      <td>0558925278</td>\n",
       "      <td>5.0</td>\n",
       "      <td>1404691200</td>\n",
       "    </tr>\n",
       "    <tr>\n",
       "      <th>3</th>\n",
       "      <td>A1WMRR494NWEWV</td>\n",
       "      <td>0733001998</td>\n",
       "      <td>4.0</td>\n",
       "      <td>1382572800</td>\n",
       "    </tr>\n",
       "    <tr>\n",
       "      <th>4</th>\n",
       "      <td>A3IAAVS479H7M7</td>\n",
       "      <td>0737104473</td>\n",
       "      <td>1.0</td>\n",
       "      <td>1274227200</td>\n",
       "    </tr>\n",
       "  </tbody>\n",
       "</table>\n",
       "</div>"
      ],
      "text/plain": [
       "           UserId   ProductId  Rating   Timestamp\n",
       "0  A39HTATAQ9V7YF  0205616461     5.0  1369699200\n",
       "1  A3JM6GV9MNOF9X  0558925278     3.0  1355443200\n",
       "2  A1Z513UWSAAO0F  0558925278     5.0  1404691200\n",
       "3  A1WMRR494NWEWV  0733001998     4.0  1382572800\n",
       "4  A3IAAVS479H7M7  0737104473     1.0  1274227200"
      ]
     },
     "execution_count": 6,
     "metadata": {},
     "output_type": "execute_result"
    }
   ],
   "source": [
    "dataset_ratings.head(5)"
   ]
  },
  {
   "cell_type": "markdown",
   "metadata": {},
   "source": [
    "Trình bày 5 dòng dữ liệu cuối cùng"
   ]
  },
  {
   "cell_type": "code",
   "execution_count": 7,
   "metadata": {},
   "outputs": [
    {
     "data": {
      "text/html": [
       "<div>\n",
       "<style scoped>\n",
       "    .dataframe tbody tr th:only-of-type {\n",
       "        vertical-align: middle;\n",
       "    }\n",
       "\n",
       "    .dataframe tbody tr th {\n",
       "        vertical-align: top;\n",
       "    }\n",
       "\n",
       "    .dataframe thead th {\n",
       "        text-align: right;\n",
       "    }\n",
       "</style>\n",
       "<table border=\"1\" class=\"dataframe\">\n",
       "  <thead>\n",
       "    <tr style=\"text-align: right;\">\n",
       "      <th></th>\n",
       "      <th>UserId</th>\n",
       "      <th>ProductId</th>\n",
       "      <th>Rating</th>\n",
       "      <th>Timestamp</th>\n",
       "    </tr>\n",
       "  </thead>\n",
       "  <tbody>\n",
       "    <tr>\n",
       "      <th>493795</th>\n",
       "      <td>AEP1F83XRQKNB</td>\n",
       "      <td>B00FGJGNGU</td>\n",
       "      <td>2.0</td>\n",
       "      <td>1391212800</td>\n",
       "    </tr>\n",
       "    <tr>\n",
       "      <th>493796</th>\n",
       "      <td>A26A7Q6R1GMCFP</td>\n",
       "      <td>B00FGJGNGU</td>\n",
       "      <td>5.0</td>\n",
       "      <td>1403395200</td>\n",
       "    </tr>\n",
       "    <tr>\n",
       "      <th>493797</th>\n",
       "      <td>A3J15VAR3I5RJZ</td>\n",
       "      <td>B00FGJGNGU</td>\n",
       "      <td>5.0</td>\n",
       "      <td>1385683200</td>\n",
       "    </tr>\n",
       "    <tr>\n",
       "      <th>493798</th>\n",
       "      <td>ALVJJCDAH5SXB</td>\n",
       "      <td>B00FGJJ9OI</td>\n",
       "      <td>5.0</td>\n",
       "      <td>1397779200</td>\n",
       "    </tr>\n",
       "    <tr>\n",
       "      <th>493799</th>\n",
       "      <td>A22UH3YMSE8QFF</td>\n",
       "      <td>B00FGJJ9OI</td>\n",
       "      <td>4.0</td>\n",
       "      <td>1397088000</td>\n",
       "    </tr>\n",
       "  </tbody>\n",
       "</table>\n",
       "</div>"
      ],
      "text/plain": [
       "                UserId   ProductId  Rating   Timestamp\n",
       "493795   AEP1F83XRQKNB  B00FGJGNGU     2.0  1391212800\n",
       "493796  A26A7Q6R1GMCFP  B00FGJGNGU     5.0  1403395200\n",
       "493797  A3J15VAR3I5RJZ  B00FGJGNGU     5.0  1385683200\n",
       "493798   ALVJJCDAH5SXB  B00FGJJ9OI     5.0  1397779200\n",
       "493799  A22UH3YMSE8QFF  B00FGJJ9OI     4.0  1397088000"
      ]
     },
     "execution_count": 7,
     "metadata": {},
     "output_type": "execute_result"
    }
   ],
   "source": [
    "dataset_ratings.tail(5)"
   ]
  },
  {
   "cell_type": "markdown",
   "metadata": {},
   "source": [
    "### Kiểm dữ liệu NULL và NA trong dataset"
   ]
  },
  {
   "cell_type": "code",
   "execution_count": 8,
   "metadata": {},
   "outputs": [
    {
     "name": "stdout",
     "output_type": "stream",
     "text": [
      "<class 'pandas.core.frame.DataFrame'>\n",
      "RangeIndex: 493800 entries, 0 to 493799\n",
      "Data columns (total 4 columns):\n",
      " #   Column     Non-Null Count   Dtype  \n",
      "---  ------     --------------   -----  \n",
      " 0   UserId     493800 non-null  object \n",
      " 1   ProductId  493800 non-null  object \n",
      " 2   Rating     493800 non-null  float64\n",
      " 3   Timestamp  493800 non-null  int64  \n",
      "dtypes: float64(1), int64(1), object(2)\n",
      "memory usage: 15.1+ MB\n"
     ]
    }
   ],
   "source": [
    "dataset_ratings.info()"
   ]
  },
  {
   "cell_type": "code",
   "execution_count": 9,
   "metadata": {},
   "outputs": [
    {
     "data": {
      "text/plain": [
       "UserId       False\n",
       "ProductId    False\n",
       "Rating       False\n",
       "Timestamp    False\n",
       "dtype: bool"
      ]
     },
     "execution_count": 9,
     "metadata": {},
     "output_type": "execute_result"
    }
   ],
   "source": [
    "dataset_ratings.isnull().any()"
   ]
  },
  {
   "cell_type": "markdown",
   "metadata": {},
   "source": [
    "### Xóa dữ liệu NULL"
   ]
  },
  {
   "cell_type": "code",
   "execution_count": 10,
   "metadata": {},
   "outputs": [],
   "source": [
    "new_dataset_rating = dataset_ratings.dropna()"
   ]
  },
  {
   "cell_type": "markdown",
   "metadata": {},
   "source": [
    "Dữ liệu còn lại sau khi xóa NULL"
   ]
  },
  {
   "cell_type": "code",
   "execution_count": 11,
   "metadata": {},
   "outputs": [
    {
     "data": {
      "text/plain": [
       "UserId       493800\n",
       "ProductId    493800\n",
       "Rating       493800\n",
       "Timestamp    493800\n",
       "dtype: int64"
      ]
     },
     "execution_count": 11,
     "metadata": {},
     "output_type": "execute_result"
    }
   ],
   "source": [
    "new_dataset_rating.count()"
   ]
  },
  {
   "cell_type": "code",
   "execution_count": 12,
   "metadata": {},
   "outputs": [
    {
     "data": {
      "text/plain": [
       "(493800, 4)"
      ]
     },
     "execution_count": 12,
     "metadata": {},
     "output_type": "execute_result"
    }
   ],
   "source": [
    "new_dataset_rating.shape"
   ]
  },
  {
   "cell_type": "code",
   "execution_count": 13,
   "metadata": {},
   "outputs": [
    {
     "data": {
      "text/plain": [
       "UserId        object\n",
       "ProductId     object\n",
       "Rating       float64\n",
       "Timestamp      int64\n",
       "dtype: object"
      ]
     },
     "execution_count": 13,
     "metadata": {},
     "output_type": "execute_result"
    }
   ],
   "source": [
    "#Kiểm tra các kiểu dữ liệu\n",
    "new_dataset_rating.dtypes"
   ]
  },
  {
   "cell_type": "code",
   "execution_count": 14,
   "metadata": {},
   "outputs": [
    {
     "data": {
      "text/html": [
       "<div>\n",
       "<style scoped>\n",
       "    .dataframe tbody tr th:only-of-type {\n",
       "        vertical-align: middle;\n",
       "    }\n",
       "\n",
       "    .dataframe tbody tr th {\n",
       "        vertical-align: top;\n",
       "    }\n",
       "\n",
       "    .dataframe thead th {\n",
       "        text-align: right;\n",
       "    }\n",
       "</style>\n",
       "<table border=\"1\" class=\"dataframe\">\n",
       "  <thead>\n",
       "    <tr style=\"text-align: right;\">\n",
       "      <th></th>\n",
       "      <th>count</th>\n",
       "      <th>mean</th>\n",
       "      <th>std</th>\n",
       "      <th>min</th>\n",
       "      <th>25%</th>\n",
       "      <th>50%</th>\n",
       "      <th>75%</th>\n",
       "      <th>max</th>\n",
       "    </tr>\n",
       "  </thead>\n",
       "  <tbody>\n",
       "    <tr>\n",
       "      <th>Rating</th>\n",
       "      <td>493800.0</td>\n",
       "      <td>4.089113e+00</td>\n",
       "      <td>1.327769e+00</td>\n",
       "      <td>1.000000e+00</td>\n",
       "      <td>4.000000e+00</td>\n",
       "      <td>5.000000e+00</td>\n",
       "      <td>5.000000e+00</td>\n",
       "      <td>5.000000e+00</td>\n",
       "    </tr>\n",
       "    <tr>\n",
       "      <th>Timestamp</th>\n",
       "      <td>493800.0</td>\n",
       "      <td>1.380893e+09</td>\n",
       "      <td>1.796930e+07</td>\n",
       "      <td>1.085098e+09</td>\n",
       "      <td>1.368576e+09</td>\n",
       "      <td>1.384042e+09</td>\n",
       "      <td>1.395101e+09</td>\n",
       "      <td>1.406074e+09</td>\n",
       "    </tr>\n",
       "  </tbody>\n",
       "</table>\n",
       "</div>"
      ],
      "text/plain": [
       "              count          mean           std           min           25%  \\\n",
       "Rating     493800.0  4.089113e+00  1.327769e+00  1.000000e+00  4.000000e+00   \n",
       "Timestamp  493800.0  1.380893e+09  1.796930e+07  1.085098e+09  1.368576e+09   \n",
       "\n",
       "                    50%           75%           max  \n",
       "Rating     5.000000e+00  5.000000e+00  5.000000e+00  \n",
       "Timestamp  1.384042e+09  1.395101e+09  1.406074e+09  "
      ]
     },
     "execution_count": 14,
     "metadata": {},
     "output_type": "execute_result"
    }
   ],
   "source": [
    "#Kiểm tra thống kê mô tả\n",
    "new_dataset_rating.describe().T"
   ]
  },
  {
   "cell_type": "code",
   "execution_count": 15,
   "metadata": {},
   "outputs": [
    {
     "data": {
      "text/plain": [
       "count    493800.000000\n",
       "mean          4.089113\n",
       "std           1.327769\n",
       "min           1.000000\n",
       "25%           4.000000\n",
       "50%           5.000000\n",
       "75%           5.000000\n",
       "max           5.000000\n",
       "Name: Rating, dtype: float64"
      ]
     },
     "execution_count": 15,
     "metadata": {},
     "output_type": "execute_result"
    }
   ],
   "source": [
    "#Xem thống kê mô tả cột rating\n",
    "new_dataset_rating.Rating.describe().T"
   ]
  },
  {
   "cell_type": "markdown",
   "metadata": {},
   "source": [
    "Khởi tạo SPARK"
   ]
  },
  {
   "cell_type": "code",
   "execution_count": 2,
   "metadata": {},
   "outputs": [],
   "source": [
    "import seaborn as sns\n",
    "import matplotlib.pyplot as plt\n",
    "import math\n",
    "\n",
    "import findspark\n",
    "findspark.init()\n",
    "\n",
    "import pyspark\n",
    "findspark.find()\n",
    "\n",
    "from pyspark.sql import SparkSession\n",
    "from pyspark.sql.functions import count\n",
    "\n",
    "from pyspark.ml.recommendation import ALS\n",
    "from pyspark.ml.evaluation import RegressionEvaluator\n",
    "from pyspark.ml.feature import StringIndexer\n",
    "from pyspark.ml import Pipeline\n",
    "\n",
    "spark = (SparkSession\n",
    "         .builder\n",
    "         .appName(\"ALS recommendation spark session\")\n",
    "         .getOrCreate())"
   ]
  },
  {
   "cell_type": "markdown",
   "metadata": {},
   "source": [
    "Đọc dữ liệu"
   ]
  },
  {
   "cell_type": "code",
   "execution_count": 3,
   "metadata": {},
   "outputs": [
    {
     "name": "stdout",
     "output_type": "stream",
     "text": [
      "+--------------+----------+------+----------+\n",
      "|        UserId| ProductId|Rating| Timestamp|\n",
      "+--------------+----------+------+----------+\n",
      "|A39HTATAQ9V7YF|0205616461|   5.0|1369699200|\n",
      "|A3JM6GV9MNOF9X|0558925278|   3.0|1355443200|\n",
      "|A1Z513UWSAAO0F|0558925278|   5.0|1404691200|\n",
      "|A1WMRR494NWEWV|0733001998|   4.0|1382572800|\n",
      "|A3IAAVS479H7M7|0737104473|   1.0|1274227200|\n",
      "+--------------+----------+------+----------+\n",
      "only showing top 5 rows\n",
      "\n"
     ]
    }
   ],
   "source": [
    "ratingData = (spark.read\n",
    "          .option(\"HEADER\", True)\n",
    "          .option(\"inferSchema\", True)\n",
    "          .csv(\"ratings_Beauty.csv\")\n",
    "         )\n",
    "\n",
    "ratingData.show(5)"
   ]
  },
  {
   "cell_type": "markdown",
   "metadata": {},
   "source": [
    "Lấy ra những cột cần thiết cho model"
   ]
  },
  {
   "cell_type": "code",
   "execution_count": 4,
   "metadata": {},
   "outputs": [
    {
     "name": "stdout",
     "output_type": "stream",
     "text": [
      "+--------------+------+----------+\n",
      "|        UserId|Rating| ProductId|\n",
      "+--------------+------+----------+\n",
      "|A39HTATAQ9V7YF|   5.0|0205616461|\n",
      "|A3JM6GV9MNOF9X|   3.0|0558925278|\n",
      "|A1Z513UWSAAO0F|   5.0|0558925278|\n",
      "|A1WMRR494NWEWV|   4.0|0733001998|\n",
      "|A3IAAVS479H7M7|   1.0|0737104473|\n",
      "+--------------+------+----------+\n",
      "only showing top 5 rows\n",
      "\n"
     ]
    }
   ],
   "source": [
    "nd=ratingData.select(ratingData['UserId'],ratingData['Rating'],ratingData['ProductId'])\n",
    "nd.show(5)"
   ]
  },
  {
   "cell_type": "markdown",
   "metadata": {},
   "source": [
    "Chuyển cột UserId và ProductId từ (kiểu string) thành label1 (kiểu int)"
   ]
  },
  {
   "cell_type": "code",
   "execution_count": 5,
   "metadata": {},
   "outputs": [
    {
     "name": "stdout",
     "output_type": "stream",
     "text": [
      "+--------------+------+----------+------------+---------------+\n",
      "|        UserId|Rating| ProductId|UserId_index|ProductId_index|\n",
      "+--------------+------+----------+------------+---------------+\n",
      "|A39HTATAQ9V7YF|   5.0|0205616461|     49380.0|        43788.0|\n",
      "|A3JM6GV9MNOF9X|   3.0|0558925278|    263677.0|        28932.0|\n",
      "|A1Z513UWSAAO0F|   5.0|0558925278|    142369.0|        28932.0|\n",
      "|A1WMRR494NWEWV|   4.0|0733001998|    137071.0|        43789.0|\n",
      "|A3IAAVS479H7M7|   1.0|0737104473|    260907.0|        43790.0|\n",
      "| AKJHHD5VEH7VG|   5.0|0762451459|       186.0|        43791.0|\n",
      "|A1BG8QW55XHN6U|   5.0|1304139212|       619.0|        43792.0|\n",
      "|A22VW0P4VZHDE3|   5.0|1304139220|      2034.0|        43793.0|\n",
      "|A3V3RE4132GKRO|   5.0|130414089X|    288317.0|        43794.0|\n",
      "|A327B0I7CYTEJC|   4.0|130414643X|    226073.0|        21588.0|\n",
      "+--------------+------+----------+------------+---------------+\n",
      "only showing top 10 rows\n",
      "\n"
     ]
    }
   ],
   "source": [
    "\n",
    "indexer = [StringIndexer(inputCol=column, outputCol=column+\"_index\") \n",
    "for column in list(set(nd.columns)-set(['Rating'])) ]\n",
    "pipeline = Pipeline(stages=indexer)\n",
    "transformed = pipeline.fit(nd).transform(nd)\n",
    "transformed.show(10)"
   ]
  },
  {
   "cell_type": "code",
   "execution_count": 17,
   "metadata": {},
   "outputs": [
    {
     "name": "stdout",
     "output_type": "stream",
     "text": [
      "+--------------+----------+-----+\n",
      "|UserId        |ProductId |count|\n",
      "+--------------+----------+-----+\n",
      "|A1ZIIE9LTVAF2 |B005VN7YUA|1    |\n",
      "|AEI23CVWWRAOZ |B005VRA5YI|1    |\n",
      "|A2HY7FX2BGVFGB|B005VX8S4G|1    |\n",
      "|A2UJZJT9YVX0W0|B005W1DZG8|1    |\n",
      "|A37WJU8SYK6MGH|B005W56A5M|1    |\n",
      "|AK32YNB66QSEE |B005WAZVXO|1    |\n",
      "|A2SMXNU3PYSH0V|B005WH2D10|1    |\n",
      "|ABPXZXL5OH3LY |B005WKJB6C|1    |\n",
      "|A3IUM0CANKV9DC|B005WLVC5O|1    |\n",
      "|A3KMJR0FO1H15P|B005WOIWFY|1    |\n",
      "|A3F4C3XA5CYSHN|B005WQB6G4|1    |\n",
      "|A1QI4WYUKN9U9L|B005WQEZIA|1    |\n",
      "|AHVZVR9J9CSG8 |B005WTKB2Q|1    |\n",
      "|AIGVLD91V9ZYM |B005WTKB2Q|1    |\n",
      "|A2HDQTF026K80E|B005WTKB2Q|1    |\n",
      "|ASYHWUQLVS433 |B005WTYEYW|1    |\n",
      "|A4C808JMEHG5R |B005WTYEYW|1    |\n",
      "|A1S9SDMF9OLR1A|B005WYYYY2|1    |\n",
      "|AZNV5I0GWPETQ |B005X2F7KI|1    |\n",
      "|A5X5LJXMEO4A4 |B005X6OC3W|1    |\n",
      "+--------------+----------+-----+\n",
      "only showing top 20 rows\n",
      "\n"
     ]
    }
   ],
   "source": [
    "ratingData.groupBy(\"UserId\",\"ProductId\").count().show(truncate=False)\n"
   ]
  }
 ],
 "metadata": {
  "kernelspec": {
   "display_name": "Python 3",
   "language": "python",
   "name": "python3"
  },
  "language_info": {
   "codemirror_mode": {
    "name": "ipython",
    "version": 3
   },
   "file_extension": ".py",
   "mimetype": "text/x-python",
   "name": "python",
   "nbconvert_exporter": "python",
   "pygments_lexer": "ipython3",
   "version": "3.7.8 (tags/v3.7.8:4b47a5b6ba, Jun 28 2020, 08:53:46) [MSC v.1916 64 bit (AMD64)]"
  },
  "orig_nbformat": 4,
  "vscode": {
   "interpreter": {
    "hash": "5109d816b82be14675a6b11f8e0f0d2e80f029176ed3710d54e125caa8520dfd"
   }
  }
 },
 "nbformat": 4,
 "nbformat_minor": 2
}
