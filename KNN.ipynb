{
 "cells": [
  {
   "cell_type": "code",
   "execution_count": 229,
   "metadata": {},
   "outputs": [],
   "source": [
    "import pandas as pd\n",
    "import numpy as np\n",
    "import seaborn as sns\n",
    "import matplotlib.pyplot as plt\n",
    "sns.set(color_codes=True)\n",
    "%matplotlib inline"
   ]
  },
  {
   "cell_type": "markdown",
   "metadata": {},
   "source": [
    "Đọc và kiểm tra dữ liệu"
   ]
  },
  {
   "cell_type": "code",
   "execution_count": 230,
   "metadata": {},
   "outputs": [
    {
     "name": "stdout",
     "output_type": "stream",
     "text": [
      "<class 'pandas.core.frame.DataFrame'>\n",
      "RangeIndex: 493800 entries, 0 to 493799\n",
      "Data columns (total 4 columns):\n",
      " #   Column     Non-Null Count   Dtype  \n",
      "---  ------     --------------   -----  \n",
      " 0   UserId     493800 non-null  object \n",
      " 1   ProductId  493800 non-null  object \n",
      " 2   Rating     493800 non-null  float64\n",
      " 3   Timestamp  493800 non-null  int64  \n",
      "dtypes: float64(1), int64(1), object(2)\n",
      "memory usage: 15.1+ MB\n"
     ]
    },
    {
     "data": {
      "text/plain": [
       "(493800, 4)"
      ]
     },
     "execution_count": 230,
     "metadata": {},
     "output_type": "execute_result"
    }
   ],
   "source": [
    "dataset_ratings=pd.read_csv(\"ratings_Beauty.csv\")\n",
    "dataset_ratings.info()\n",
    "dataset_ratings.shape"
   ]
  },
  {
   "cell_type": "markdown",
   "metadata": {},
   "source": [
    "EDA"
   ]
  },
  {
   "cell_type": "code",
   "execution_count": 231,
   "metadata": {},
   "outputs": [],
   "source": [
    "data_set_buffer = dataset_ratings.drop('Timestamp',axis=1)\n",
    "#consider chỉ chiếm 10% dữ liệu\n",
    "data_set_buffer = data_set_buffer.sample(frac=0.1)\n",
    "del dataset_ratings"
   ]
  },
  {
   "cell_type": "code",
   "execution_count": 232,
   "metadata": {},
   "outputs": [
    {
     "data": {
      "text/plain": [
       "UserId       0\n",
       "ProductId    0\n",
       "Rating       0\n",
       "dtype: int64"
      ]
     },
     "execution_count": 232,
     "metadata": {},
     "output_type": "execute_result"
    }
   ],
   "source": [
    "#Kiểm tra dữ liệu có NULL hay N/A hay không\n",
    "data_set_buffer.isna().sum()\n",
    "data_set_buffer.isnull().sum()"
   ]
  },
  {
   "cell_type": "code",
   "execution_count": 233,
   "metadata": {},
   "outputs": [
    {
     "data": {
      "text/html": [
       "<div>\n",
       "<style scoped>\n",
       "    .dataframe tbody tr th:only-of-type {\n",
       "        vertical-align: middle;\n",
       "    }\n",
       "\n",
       "    .dataframe tbody tr th {\n",
       "        vertical-align: top;\n",
       "    }\n",
       "\n",
       "    .dataframe thead th {\n",
       "        text-align: right;\n",
       "    }\n",
       "</style>\n",
       "<table border=\"1\" class=\"dataframe\">\n",
       "  <thead>\n",
       "    <tr style=\"text-align: right;\">\n",
       "      <th></th>\n",
       "      <th>count</th>\n",
       "      <th>mean</th>\n",
       "      <th>std</th>\n",
       "      <th>min</th>\n",
       "      <th>25%</th>\n",
       "      <th>50%</th>\n",
       "      <th>75%</th>\n",
       "      <th>max</th>\n",
       "    </tr>\n",
       "  </thead>\n",
       "  <tbody>\n",
       "    <tr>\n",
       "      <th>Rating</th>\n",
       "      <td>49380.0</td>\n",
       "      <td>4.079486</td>\n",
       "      <td>1.333577</td>\n",
       "      <td>1.0</td>\n",
       "      <td>3.0</td>\n",
       "      <td>5.0</td>\n",
       "      <td>5.0</td>\n",
       "      <td>5.0</td>\n",
       "    </tr>\n",
       "  </tbody>\n",
       "</table>\n",
       "</div>"
      ],
      "text/plain": [
       "          count      mean       std  min  25%  50%  75%  max\n",
       "Rating  49380.0  4.079486  1.333577  1.0  3.0  5.0  5.0  5.0"
      ]
     },
     "execution_count": 233,
     "metadata": {},
     "output_type": "execute_result"
    }
   ],
   "source": [
    "data_set_buffer.describe().T"
   ]
  },
  {
   "cell_type": "code",
   "execution_count": 234,
   "metadata": {},
   "outputs": [
    {
     "data": {
      "text/plain": [
       "count    49380.000000\n",
       "mean         4.079486\n",
       "std          1.333577\n",
       "min          1.000000\n",
       "25%          3.000000\n",
       "50%          5.000000\n",
       "75%          5.000000\n",
       "max          5.000000\n",
       "Name: Rating, dtype: float64"
      ]
     },
     "execution_count": 234,
     "metadata": {},
     "output_type": "execute_result"
    }
   ],
   "source": [
    "data_set_buffer.Rating.describe().T"
   ]
  },
  {
   "cell_type": "code",
   "execution_count": 235,
   "metadata": {},
   "outputs": [
    {
     "data": {
      "text/plain": [
       "UserId\n",
       "ALNFHVS3SC4FV     11\n",
       "A34BZM6S9L7QI4     9\n",
       "A3LJLRIZL38GG3     9\n",
       "A34GQ3JF4BGFYV     9\n",
       "A2QDOJFFLFGF18     9\n",
       "                  ..\n",
       "A2A5D19RZXA1TQ     1\n",
       "A2A5DABY0G4TUB     1\n",
       "A2A5DGNAJRHSH      1\n",
       "A2A5DIWBWDNLKV     1\n",
       "AZZZLM1E5JJ8C      1\n",
       "Name: Rating, Length: 46228, dtype: int64"
      ]
     },
     "execution_count": 235,
     "metadata": {},
     "output_type": "execute_result"
    }
   ],
   "source": [
    "data_set_buffer.groupby('UserId')['Rating'].count().sort_values(ascending=False)"
   ]
  },
  {
   "cell_type": "markdown",
   "metadata": {},
   "source": [
    "Biểu đồ xem số lượng rating"
   ]
  },
  {
   "cell_type": "code",
   "execution_count": 236,
   "metadata": {},
   "outputs": [],
   "source": [
    "sns.set(style=\"white\", palette=\"tab10\", color_codes=True)"
   ]
  },
  {
   "cell_type": "code",
   "execution_count": 237,
   "metadata": {},
   "outputs": [
    {
     "data": {
      "image/png": "[encoded data removed]",
      "text/plain": [
       "<Figure size 640x480 with 1 Axes>"
      ]
     },
     "metadata": {},
     "output_type": "display_data"
    }
   ],
   "source": [
    "ax = sns.countplot(data=data_set_buffer,x='Rating')\n",
    "ax.set_ylim(0, len(data_set_buffer))\n",
    "ax.set_xlim(0, 5)\n",
    "for p in ax.patches:\n",
    "    height = p.get_height()\n",
    "    ax.text(p.get_x()+p.get_width()/2.,\n",
    "            height + 3,\n",
    "            '{:%}'.format(height/float(len(data_set_buffer))),\n",
    "            ha=\"center\") \n",
    "plt.show()"
   ]
  },
  {
   "cell_type": "markdown",
   "metadata": {},
   "source": [
    "Quan sát: 58% người dùng đã xếp hạng 5. Vì vậy, chúng tôi có số lượng 5 xếp hạng cao nhất."
   ]
  },
  {
   "cell_type": "code",
   "execution_count": 238,
   "metadata": {},
   "outputs": [],
   "source": [
    "data_set_buffer_with_threshold50=data_set_buffer.groupby(\"ProductId\").filter(lambda x:x['Rating'].count() >=50)\n",
    "del data_set_buffer"
   ]
  },
  {
   "cell_type": "markdown",
   "metadata": {},
   "source": [
    "Xây dựng mô hình gợi ý sản phẩm"
   ]
  },
  {
   "cell_type": "code",
   "execution_count": 239,
   "metadata": {},
   "outputs": [
    {
     "data": {
      "text/html": [
       "<div>\n",
       "<style scoped>\n",
       "    .dataframe tbody tr th:only-of-type {\n",
       "        vertical-align: middle;\n",
       "    }\n",
       "\n",
       "    .dataframe tbody tr th {\n",
       "        vertical-align: top;\n",
       "    }\n",
       "\n",
       "    .dataframe thead th {\n",
       "        text-align: right;\n",
       "    }\n",
       "</style>\n",
       "<table border=\"1\" class=\"dataframe\">\n",
       "  <thead>\n",
       "    <tr style=\"text-align: right;\">\n",
       "      <th></th>\n",
       "      <th>UserId</th>\n",
       "      <th>ProductId</th>\n",
       "      <th>Rating</th>\n",
       "    </tr>\n",
       "  </thead>\n",
       "  <tbody>\n",
       "    <tr>\n",
       "      <th>244271</th>\n",
       "      <td>A11A7XXU26O7O1</td>\n",
       "      <td>B008U1Q4DI</td>\n",
       "      <td>5.0</td>\n",
       "    </tr>\n",
       "    <tr>\n",
       "      <th>241384</th>\n",
       "      <td>A15U1YKIP7B9M9</td>\n",
       "      <td>B008TBTA6C</td>\n",
       "      <td>4.0</td>\n",
       "    </tr>\n",
       "    <tr>\n",
       "      <th>243340</th>\n",
       "      <td>A2H84JCWBKMWYF</td>\n",
       "      <td>B008U12YV4</td>\n",
       "      <td>5.0</td>\n",
       "    </tr>\n",
       "    <tr>\n",
       "      <th>277147</th>\n",
       "      <td>A2FCDOOR9OE2XX</td>\n",
       "      <td>B009FIF1RU</td>\n",
       "      <td>2.0</td>\n",
       "    </tr>\n",
       "    <tr>\n",
       "      <th>317295</th>\n",
       "      <td>A2TFBHX8UJSQ9</td>\n",
       "      <td>B00A51LI1O</td>\n",
       "      <td>2.0</td>\n",
       "    </tr>\n",
       "  </tbody>\n",
       "</table>\n",
       "</div>"
      ],
      "text/plain": [
       "                UserId   ProductId  Rating\n",
       "244271  A11A7XXU26O7O1  B008U1Q4DI     5.0\n",
       "241384  A15U1YKIP7B9M9  B008TBTA6C     4.0\n",
       "243340  A2H84JCWBKMWYF  B008U12YV4     5.0\n",
       "277147  A2FCDOOR9OE2XX  B009FIF1RU     2.0\n",
       "317295   A2TFBHX8UJSQ9  B00A51LI1O     2.0"
      ]
     },
     "execution_count": 239,
     "metadata": {},
     "output_type": "execute_result"
    }
   ],
   "source": [
    "#Chia dữ liệu thành tập train test\n",
    "from sklearn.model_selection import train_test_split\n",
    "train_data, test_data = train_test_split(data_set_buffer_with_threshold50, test_size = 0.3)\n",
    "train_data.head()"
   ]
  },
  {
   "cell_type": "code",
   "execution_count": 240,
   "metadata": {},
   "outputs": [
    {
     "data": {
      "text/html": [
       "<div>\n",
       "<style scoped>\n",
       "    .dataframe tbody tr th:only-of-type {\n",
       "        vertical-align: middle;\n",
       "    }\n",
       "\n",
       "    .dataframe tbody tr th {\n",
       "        vertical-align: top;\n",
       "    }\n",
       "\n",
       "    .dataframe thead th {\n",
       "        text-align: right;\n",
       "    }\n",
       "</style>\n",
       "<table border=\"1\" class=\"dataframe\">\n",
       "  <thead>\n",
       "    <tr style=\"text-align: right;\">\n",
       "      <th></th>\n",
       "      <th>ProductId</th>\n",
       "      <th>noofusers</th>\n",
       "    </tr>\n",
       "  </thead>\n",
       "  <tbody>\n",
       "    <tr>\n",
       "      <th>0</th>\n",
       "      <td>B005X2F7KI</td>\n",
       "      <td>35</td>\n",
       "    </tr>\n",
       "    <tr>\n",
       "      <th>1</th>\n",
       "      <td>B005XIDZHO</td>\n",
       "      <td>39</td>\n",
       "    </tr>\n",
       "    <tr>\n",
       "      <th>2</th>\n",
       "      <td>B005Y6F4WO</td>\n",
       "      <td>44</td>\n",
       "    </tr>\n",
       "    <tr>\n",
       "      <th>3</th>\n",
       "      <td>B00639DLV2</td>\n",
       "      <td>59</td>\n",
       "    </tr>\n",
       "    <tr>\n",
       "      <th>4</th>\n",
       "      <td>B0067F28ZW</td>\n",
       "      <td>39</td>\n",
       "    </tr>\n",
       "  </tbody>\n",
       "</table>\n",
       "</div>"
      ],
      "text/plain": [
       "    ProductId  noofusers\n",
       "0  B005X2F7KI         35\n",
       "1  B005XIDZHO         39\n",
       "2  B005Y6F4WO         44\n",
       "3  B00639DLV2         59\n",
       "4  B0067F28ZW         39"
      ]
     },
     "execution_count": 240,
     "metadata": {},
     "output_type": "execute_result"
    }
   ],
   "source": [
    "# Số lượng user_id cho mỗi sản phẩm duy nhất làm điểm đề xuất\n",
    "train_data_grouped = train_data.groupby('ProductId').agg({'UserId': 'count'}).reset_index()\n",
    "train_data_grouped.rename(columns = {'UserId': 'noofusers'},inplace=True)\n",
    "train_data_grouped.head()"
   ]
  },
  {
   "cell_type": "code",
   "execution_count": 241,
   "metadata": {},
   "outputs": [
    {
     "data": {
      "text/html": [
       "<div>\n",
       "<style scoped>\n",
       "    .dataframe tbody tr th:only-of-type {\n",
       "        vertical-align: middle;\n",
       "    }\n",
       "\n",
       "    .dataframe tbody tr th {\n",
       "        vertical-align: top;\n",
       "    }\n",
       "\n",
       "    .dataframe thead th {\n",
       "        text-align: right;\n",
       "    }\n",
       "</style>\n",
       "<table border=\"1\" class=\"dataframe\">\n",
       "  <thead>\n",
       "    <tr style=\"text-align: right;\">\n",
       "      <th></th>\n",
       "      <th>ProductId</th>\n",
       "      <th>ratingsum</th>\n",
       "    </tr>\n",
       "  </thead>\n",
       "  <tbody>\n",
       "    <tr>\n",
       "      <th>0</th>\n",
       "      <td>B005X2F7KI</td>\n",
       "      <td>145.0</td>\n",
       "    </tr>\n",
       "    <tr>\n",
       "      <th>1</th>\n",
       "      <td>B005XIDZHO</td>\n",
       "      <td>128.0</td>\n",
       "    </tr>\n",
       "    <tr>\n",
       "      <th>2</th>\n",
       "      <td>B005Y6F4WO</td>\n",
       "      <td>191.0</td>\n",
       "    </tr>\n",
       "    <tr>\n",
       "      <th>3</th>\n",
       "      <td>B00639DLV2</td>\n",
       "      <td>261.0</td>\n",
       "    </tr>\n",
       "    <tr>\n",
       "      <th>4</th>\n",
       "      <td>B0067F28ZW</td>\n",
       "      <td>159.0</td>\n",
       "    </tr>\n",
       "  </tbody>\n",
       "</table>\n",
       "</div>"
      ],
      "text/plain": [
       "    ProductId  ratingsum\n",
       "0  B005X2F7KI      145.0\n",
       "1  B005XIDZHO      128.0\n",
       "2  B005Y6F4WO      191.0\n",
       "3  B00639DLV2      261.0\n",
       "4  B0067F28ZW      159.0"
      ]
     },
     "execution_count": 241,
     "metadata": {},
     "output_type": "execute_result"
    }
   ],
   "source": [
    "#Đếm tổng số lượng đánh giá từng sản phẩm\n",
    "train_data_grouped_rating= train_data.groupby(['ProductId'])['Rating'].sum().reset_index()\n",
    "train_data_grouped_rating.rename(columns = {'Rating': 'ratingsum'},inplace=True)\n",
    "train_data_grouped_rating.head()"
   ]
  },
  {
   "cell_type": "code",
   "execution_count": 242,
   "metadata": {},
   "outputs": [
    {
     "data": {
      "text/html": [
       "<div>\n",
       "<style scoped>\n",
       "    .dataframe tbody tr th:only-of-type {\n",
       "        vertical-align: middle;\n",
       "    }\n",
       "\n",
       "    .dataframe tbody tr th {\n",
       "        vertical-align: top;\n",
       "    }\n",
       "\n",
       "    .dataframe thead th {\n",
       "        text-align: right;\n",
       "    }\n",
       "</style>\n",
       "<table border=\"1\" class=\"dataframe\">\n",
       "  <thead>\n",
       "    <tr style=\"text-align: right;\">\n",
       "      <th></th>\n",
       "      <th>ProductId</th>\n",
       "      <th>noofuser</th>\n",
       "    </tr>\n",
       "  </thead>\n",
       "  <tbody>\n",
       "    <tr>\n",
       "      <th>0</th>\n",
       "      <td>B005X2F7KI</td>\n",
       "      <td>35</td>\n",
       "    </tr>\n",
       "    <tr>\n",
       "      <th>1</th>\n",
       "      <td>B005XIDZHO</td>\n",
       "      <td>39</td>\n",
       "    </tr>\n",
       "    <tr>\n",
       "      <th>2</th>\n",
       "      <td>B005Y6F4WO</td>\n",
       "      <td>44</td>\n",
       "    </tr>\n",
       "    <tr>\n",
       "      <th>3</th>\n",
       "      <td>B00639DLV2</td>\n",
       "      <td>59</td>\n",
       "    </tr>\n",
       "    <tr>\n",
       "      <th>4</th>\n",
       "      <td>B0067F28ZW</td>\n",
       "      <td>39</td>\n",
       "    </tr>\n",
       "  </tbody>\n",
       "</table>\n",
       "</div>"
      ],
      "text/plain": [
       "    ProductId  noofuser\n",
       "0  B005X2F7KI        35\n",
       "1  B005XIDZHO        39\n",
       "2  B005Y6F4WO        44\n",
       "3  B00639DLV2        59\n",
       "4  B0067F28ZW        39"
      ]
     },
     "execution_count": 242,
     "metadata": {},
     "output_type": "execute_result"
    }
   ],
   "source": [
    "train_data_grouped_users = train_data.groupby('ProductId').agg({'UserId': 'count'}).reset_index()\n",
    "train_data_grouped_users.rename(columns = {'UserId': 'noofuser'},inplace=True)\n",
    "train_data_grouped_users.head()"
   ]
  },
  {
   "cell_type": "code",
   "execution_count": 243,
   "metadata": {},
   "outputs": [
    {
     "data": {
      "text/html": [
       "<div>\n",
       "<style scoped>\n",
       "    .dataframe tbody tr th:only-of-type {\n",
       "        vertical-align: middle;\n",
       "    }\n",
       "\n",
       "    .dataframe tbody tr th {\n",
       "        vertical-align: top;\n",
       "    }\n",
       "\n",
       "    .dataframe thead th {\n",
       "        text-align: right;\n",
       "    }\n",
       "</style>\n",
       "<table border=\"1\" class=\"dataframe\">\n",
       "  <thead>\n",
       "    <tr style=\"text-align: right;\">\n",
       "      <th></th>\n",
       "      <th>ProductId</th>\n",
       "      <th>ratingsum</th>\n",
       "      <th>noofuser</th>\n",
       "    </tr>\n",
       "  </thead>\n",
       "  <tbody>\n",
       "    <tr>\n",
       "      <th>0</th>\n",
       "      <td>B005X2F7KI</td>\n",
       "      <td>145.0</td>\n",
       "      <td>35</td>\n",
       "    </tr>\n",
       "    <tr>\n",
       "      <th>1</th>\n",
       "      <td>B005XIDZHO</td>\n",
       "      <td>128.0</td>\n",
       "      <td>39</td>\n",
       "    </tr>\n",
       "    <tr>\n",
       "      <th>2</th>\n",
       "      <td>B005Y6F4WO</td>\n",
       "      <td>191.0</td>\n",
       "      <td>44</td>\n",
       "    </tr>\n",
       "    <tr>\n",
       "      <th>3</th>\n",
       "      <td>B00639DLV2</td>\n",
       "      <td>261.0</td>\n",
       "      <td>59</td>\n",
       "    </tr>\n",
       "    <tr>\n",
       "      <th>4</th>\n",
       "      <td>B0067F28ZW</td>\n",
       "      <td>159.0</td>\n",
       "      <td>39</td>\n",
       "    </tr>\n",
       "  </tbody>\n",
       "</table>\n",
       "</div>"
      ],
      "text/plain": [
       "    ProductId  ratingsum  noofuser\n",
       "0  B005X2F7KI      145.0        35\n",
       "1  B005XIDZHO      128.0        39\n",
       "2  B005Y6F4WO      191.0        44\n",
       "3  B00639DLV2      261.0        59\n",
       "4  B0067F28ZW      159.0        39"
      ]
     },
     "execution_count": 243,
     "metadata": {},
     "output_type": "execute_result"
    }
   ],
   "source": [
    "train_data_merged_grouped = pd.merge(train_data_grouped_rating, train_data_grouped_users, on='ProductId')\n",
    "train_data_merged_grouped.head()"
   ]
  },
  {
   "cell_type": "code",
   "execution_count": 244,
   "metadata": {},
   "outputs": [
    {
     "data": {
      "text/html": [
       "<div>\n",
       "<style scoped>\n",
       "    .dataframe tbody tr th:only-of-type {\n",
       "        vertical-align: middle;\n",
       "    }\n",
       "\n",
       "    .dataframe tbody tr th {\n",
       "        vertical-align: top;\n",
       "    }\n",
       "\n",
       "    .dataframe thead th {\n",
       "        text-align: right;\n",
       "    }\n",
       "</style>\n",
       "<table border=\"1\" class=\"dataframe\">\n",
       "  <thead>\n",
       "    <tr style=\"text-align: right;\">\n",
       "      <th></th>\n",
       "      <th>ProductId</th>\n",
       "      <th>ratingsum</th>\n",
       "      <th>noofuser</th>\n",
       "      <th>averagerating</th>\n",
       "    </tr>\n",
       "  </thead>\n",
       "  <tbody>\n",
       "    <tr>\n",
       "      <th>0</th>\n",
       "      <td>B005X2F7KI</td>\n",
       "      <td>145.0</td>\n",
       "      <td>35</td>\n",
       "      <td>4.142857</td>\n",
       "    </tr>\n",
       "    <tr>\n",
       "      <th>1</th>\n",
       "      <td>B005XIDZHO</td>\n",
       "      <td>128.0</td>\n",
       "      <td>39</td>\n",
       "      <td>3.282051</td>\n",
       "    </tr>\n",
       "    <tr>\n",
       "      <th>2</th>\n",
       "      <td>B005Y6F4WO</td>\n",
       "      <td>191.0</td>\n",
       "      <td>44</td>\n",
       "      <td>4.340909</td>\n",
       "    </tr>\n",
       "    <tr>\n",
       "      <th>3</th>\n",
       "      <td>B00639DLV2</td>\n",
       "      <td>261.0</td>\n",
       "      <td>59</td>\n",
       "      <td>4.423729</td>\n",
       "    </tr>\n",
       "    <tr>\n",
       "      <th>4</th>\n",
       "      <td>B0067F28ZW</td>\n",
       "      <td>159.0</td>\n",
       "      <td>39</td>\n",
       "      <td>4.076923</td>\n",
       "    </tr>\n",
       "  </tbody>\n",
       "</table>\n",
       "</div>"
      ],
      "text/plain": [
       "    ProductId  ratingsum  noofuser  averagerating\n",
       "0  B005X2F7KI      145.0        35       4.142857\n",
       "1  B005XIDZHO      128.0        39       3.282051\n",
       "2  B005Y6F4WO      191.0        44       4.340909\n",
       "3  B00639DLV2      261.0        59       4.423729\n",
       "4  B0067F28ZW      159.0        39       4.076923"
      ]
     },
     "execution_count": 244,
     "metadata": {},
     "output_type": "execute_result"
    }
   ],
   "source": [
    "train_data_merged_grouped['averagerating']= train_data_merged_grouped['ratingsum']/train_data_merged_grouped['noofuser']\n",
    "train_data_merged_grouped.head()"
   ]
  },
  {
   "cell_type": "code",
   "execution_count": 245,
   "metadata": {},
   "outputs": [
    {
     "data": {
      "text/html": [
       "<div>\n",
       "<style scoped>\n",
       "    .dataframe tbody tr th:only-of-type {\n",
       "        vertical-align: middle;\n",
       "    }\n",
       "\n",
       "    .dataframe tbody tr th {\n",
       "        vertical-align: top;\n",
       "    }\n",
       "\n",
       "    .dataframe thead th {\n",
       "        text-align: right;\n",
       "    }\n",
       "</style>\n",
       "<table border=\"1\" class=\"dataframe\">\n",
       "  <thead>\n",
       "    <tr style=\"text-align: right;\">\n",
       "      <th></th>\n",
       "      <th>ProductId</th>\n",
       "      <th>ratingsum</th>\n",
       "      <th>noofuser</th>\n",
       "      <th>averagerating</th>\n",
       "    </tr>\n",
       "  </thead>\n",
       "  <tbody>\n",
       "    <tr>\n",
       "      <th>18</th>\n",
       "      <td>B007Q0WW0S</td>\n",
       "      <td>271.0</td>\n",
       "      <td>56</td>\n",
       "      <td>4.839286</td>\n",
       "    </tr>\n",
       "    <tr>\n",
       "      <th>42</th>\n",
       "      <td>B00CNOUZE2</td>\n",
       "      <td>252.0</td>\n",
       "      <td>53</td>\n",
       "      <td>4.754717</td>\n",
       "    </tr>\n",
       "    <tr>\n",
       "      <th>44</th>\n",
       "      <td>B00D9NV20C</td>\n",
       "      <td>175.0</td>\n",
       "      <td>37</td>\n",
       "      <td>4.729730</td>\n",
       "    </tr>\n",
       "    <tr>\n",
       "      <th>33</th>\n",
       "      <td>B009GIOVKC</td>\n",
       "      <td>202.0</td>\n",
       "      <td>43</td>\n",
       "      <td>4.697674</td>\n",
       "    </tr>\n",
       "    <tr>\n",
       "      <th>27</th>\n",
       "      <td>B008TBTA6C</td>\n",
       "      <td>165.0</td>\n",
       "      <td>36</td>\n",
       "      <td>4.583333</td>\n",
       "    </tr>\n",
       "    <tr>\n",
       "      <th>8</th>\n",
       "      <td>B006IBM21K</td>\n",
       "      <td>417.0</td>\n",
       "      <td>91</td>\n",
       "      <td>4.582418</td>\n",
       "    </tr>\n",
       "    <tr>\n",
       "      <th>41</th>\n",
       "      <td>B00CFRBIC0</td>\n",
       "      <td>259.0</td>\n",
       "      <td>58</td>\n",
       "      <td>4.465517</td>\n",
       "    </tr>\n",
       "    <tr>\n",
       "      <th>35</th>\n",
       "      <td>B009HULKLW</td>\n",
       "      <td>244.0</td>\n",
       "      <td>55</td>\n",
       "      <td>4.436364</td>\n",
       "    </tr>\n",
       "    <tr>\n",
       "      <th>3</th>\n",
       "      <td>B00639DLV2</td>\n",
       "      <td>261.0</td>\n",
       "      <td>59</td>\n",
       "      <td>4.423729</td>\n",
       "    </tr>\n",
       "    <tr>\n",
       "      <th>14</th>\n",
       "      <td>B006ZA0A5Y</td>\n",
       "      <td>176.0</td>\n",
       "      <td>40</td>\n",
       "      <td>4.400000</td>\n",
       "    </tr>\n",
       "    <tr>\n",
       "      <th>36</th>\n",
       "      <td>B009RNUH4A</td>\n",
       "      <td>233.0</td>\n",
       "      <td>53</td>\n",
       "      <td>4.396226</td>\n",
       "    </tr>\n",
       "    <tr>\n",
       "      <th>46</th>\n",
       "      <td>B00FAEOCP0</td>\n",
       "      <td>171.0</td>\n",
       "      <td>39</td>\n",
       "      <td>4.384615</td>\n",
       "    </tr>\n",
       "    <tr>\n",
       "      <th>2</th>\n",
       "      <td>B005Y6F4WO</td>\n",
       "      <td>191.0</td>\n",
       "      <td>44</td>\n",
       "      <td>4.340909</td>\n",
       "    </tr>\n",
       "    <tr>\n",
       "      <th>29</th>\n",
       "      <td>B008U1Q4DI</td>\n",
       "      <td>276.0</td>\n",
       "      <td>64</td>\n",
       "      <td>4.312500</td>\n",
       "    </tr>\n",
       "    <tr>\n",
       "      <th>43</th>\n",
       "      <td>B00D6EDGYE</td>\n",
       "      <td>176.0</td>\n",
       "      <td>41</td>\n",
       "      <td>4.292683</td>\n",
       "    </tr>\n",
       "    <tr>\n",
       "      <th>26</th>\n",
       "      <td>B008MP481M</td>\n",
       "      <td>214.0</td>\n",
       "      <td>50</td>\n",
       "      <td>4.280000</td>\n",
       "    </tr>\n",
       "    <tr>\n",
       "      <th>32</th>\n",
       "      <td>B009GEUPDS</td>\n",
       "      <td>196.0</td>\n",
       "      <td>46</td>\n",
       "      <td>4.260870</td>\n",
       "    </tr>\n",
       "    <tr>\n",
       "      <th>19</th>\n",
       "      <td>B007TNHQOY</td>\n",
       "      <td>234.0</td>\n",
       "      <td>55</td>\n",
       "      <td>4.254545</td>\n",
       "    </tr>\n",
       "    <tr>\n",
       "      <th>39</th>\n",
       "      <td>B00A76CPUA</td>\n",
       "      <td>225.0</td>\n",
       "      <td>53</td>\n",
       "      <td>4.245283</td>\n",
       "    </tr>\n",
       "    <tr>\n",
       "      <th>20</th>\n",
       "      <td>B0083QNBCM</td>\n",
       "      <td>178.0</td>\n",
       "      <td>42</td>\n",
       "      <td>4.238095</td>\n",
       "    </tr>\n",
       "    <tr>\n",
       "      <th>10</th>\n",
       "      <td>B006L1DNWY</td>\n",
       "      <td>328.0</td>\n",
       "      <td>78</td>\n",
       "      <td>4.205128</td>\n",
       "    </tr>\n",
       "    <tr>\n",
       "      <th>34</th>\n",
       "      <td>B009GYVMAS</td>\n",
       "      <td>189.0</td>\n",
       "      <td>45</td>\n",
       "      <td>4.200000</td>\n",
       "    </tr>\n",
       "    <tr>\n",
       "      <th>28</th>\n",
       "      <td>B008U12YV4</td>\n",
       "      <td>281.0</td>\n",
       "      <td>67</td>\n",
       "      <td>4.194030</td>\n",
       "    </tr>\n",
       "    <tr>\n",
       "      <th>15</th>\n",
       "      <td>B006ZBP8NM</td>\n",
       "      <td>155.0</td>\n",
       "      <td>37</td>\n",
       "      <td>4.189189</td>\n",
       "    </tr>\n",
       "    <tr>\n",
       "      <th>13</th>\n",
       "      <td>B006U98T08</td>\n",
       "      <td>195.0</td>\n",
       "      <td>47</td>\n",
       "      <td>4.148936</td>\n",
       "    </tr>\n",
       "    <tr>\n",
       "      <th>0</th>\n",
       "      <td>B005X2F7KI</td>\n",
       "      <td>145.0</td>\n",
       "      <td>35</td>\n",
       "      <td>4.142857</td>\n",
       "    </tr>\n",
       "    <tr>\n",
       "      <th>16</th>\n",
       "      <td>B0079R6BD2</td>\n",
       "      <td>157.0</td>\n",
       "      <td>38</td>\n",
       "      <td>4.131579</td>\n",
       "    </tr>\n",
       "    <tr>\n",
       "      <th>21</th>\n",
       "      <td>B0085WHBHU</td>\n",
       "      <td>165.0</td>\n",
       "      <td>40</td>\n",
       "      <td>4.125000</td>\n",
       "    </tr>\n",
       "    <tr>\n",
       "      <th>7</th>\n",
       "      <td>B0069FDR96</td>\n",
       "      <td>373.0</td>\n",
       "      <td>91</td>\n",
       "      <td>4.098901</td>\n",
       "    </tr>\n",
       "    <tr>\n",
       "      <th>22</th>\n",
       "      <td>B008B4FKLG</td>\n",
       "      <td>208.0</td>\n",
       "      <td>51</td>\n",
       "      <td>4.078431</td>\n",
       "    </tr>\n",
       "    <tr>\n",
       "      <th>4</th>\n",
       "      <td>B0067F28ZW</td>\n",
       "      <td>159.0</td>\n",
       "      <td>39</td>\n",
       "      <td>4.076923</td>\n",
       "    </tr>\n",
       "    <tr>\n",
       "      <th>30</th>\n",
       "      <td>B0090UJFYI</td>\n",
       "      <td>163.0</td>\n",
       "      <td>40</td>\n",
       "      <td>4.075000</td>\n",
       "    </tr>\n",
       "    <tr>\n",
       "      <th>40</th>\n",
       "      <td>B00C7DYBX0</td>\n",
       "      <td>203.0</td>\n",
       "      <td>50</td>\n",
       "      <td>4.060000</td>\n",
       "    </tr>\n",
       "    <tr>\n",
       "      <th>45</th>\n",
       "      <td>B00E68O4JU</td>\n",
       "      <td>157.0</td>\n",
       "      <td>40</td>\n",
       "      <td>3.925000</td>\n",
       "    </tr>\n",
       "    <tr>\n",
       "      <th>12</th>\n",
       "      <td>B006SVCY6I</td>\n",
       "      <td>211.0</td>\n",
       "      <td>54</td>\n",
       "      <td>3.907407</td>\n",
       "    </tr>\n",
       "    <tr>\n",
       "      <th>23</th>\n",
       "      <td>B008CEDY5O</td>\n",
       "      <td>209.0</td>\n",
       "      <td>55</td>\n",
       "      <td>3.800000</td>\n",
       "    </tr>\n",
       "    <tr>\n",
       "      <th>11</th>\n",
       "      <td>B006QO4BRM</td>\n",
       "      <td>150.0</td>\n",
       "      <td>41</td>\n",
       "      <td>3.658537</td>\n",
       "    </tr>\n",
       "    <tr>\n",
       "      <th>38</th>\n",
       "      <td>B00A51LI1O</td>\n",
       "      <td>172.0</td>\n",
       "      <td>48</td>\n",
       "      <td>3.583333</td>\n",
       "    </tr>\n",
       "    <tr>\n",
       "      <th>5</th>\n",
       "      <td>B0067F8BBM</td>\n",
       "      <td>166.0</td>\n",
       "      <td>47</td>\n",
       "      <td>3.531915</td>\n",
       "    </tr>\n",
       "    <tr>\n",
       "      <th>17</th>\n",
       "      <td>B007BLN17K</td>\n",
       "      <td>263.0</td>\n",
       "      <td>76</td>\n",
       "      <td>3.460526</td>\n",
       "    </tr>\n",
       "    <tr>\n",
       "      <th>31</th>\n",
       "      <td>B009FIF1RU</td>\n",
       "      <td>125.0</td>\n",
       "      <td>37</td>\n",
       "      <td>3.378378</td>\n",
       "    </tr>\n",
       "    <tr>\n",
       "      <th>6</th>\n",
       "      <td>B0068Y6CA4</td>\n",
       "      <td>179.0</td>\n",
       "      <td>53</td>\n",
       "      <td>3.377358</td>\n",
       "    </tr>\n",
       "    <tr>\n",
       "      <th>37</th>\n",
       "      <td>B009T47YZ2</td>\n",
       "      <td>165.0</td>\n",
       "      <td>49</td>\n",
       "      <td>3.367347</td>\n",
       "    </tr>\n",
       "    <tr>\n",
       "      <th>25</th>\n",
       "      <td>B008LDFU26</td>\n",
       "      <td>157.0</td>\n",
       "      <td>47</td>\n",
       "      <td>3.340426</td>\n",
       "    </tr>\n",
       "    <tr>\n",
       "      <th>24</th>\n",
       "      <td>B008GOR6O0</td>\n",
       "      <td>123.0</td>\n",
       "      <td>37</td>\n",
       "      <td>3.324324</td>\n",
       "    </tr>\n",
       "    <tr>\n",
       "      <th>1</th>\n",
       "      <td>B005XIDZHO</td>\n",
       "      <td>128.0</td>\n",
       "      <td>39</td>\n",
       "      <td>3.282051</td>\n",
       "    </tr>\n",
       "    <tr>\n",
       "      <th>9</th>\n",
       "      <td>B006K9OQSC</td>\n",
       "      <td>146.0</td>\n",
       "      <td>46</td>\n",
       "      <td>3.173913</td>\n",
       "    </tr>\n",
       "  </tbody>\n",
       "</table>\n",
       "</div>"
      ],
      "text/plain": [
       "     ProductId  ratingsum  noofuser  averagerating\n",
       "18  B007Q0WW0S      271.0        56       4.839286\n",
       "42  B00CNOUZE2      252.0        53       4.754717\n",
       "44  B00D9NV20C      175.0        37       4.729730\n",
       "33  B009GIOVKC      202.0        43       4.697674\n",
       "27  B008TBTA6C      165.0        36       4.583333\n",
       "8   B006IBM21K      417.0        91       4.582418\n",
       "41  B00CFRBIC0      259.0        58       4.465517\n",
       "35  B009HULKLW      244.0        55       4.436364\n",
       "3   B00639DLV2      261.0        59       4.423729\n",
       "14  B006ZA0A5Y      176.0        40       4.400000\n",
       "36  B009RNUH4A      233.0        53       4.396226\n",
       "46  B00FAEOCP0      171.0        39       4.384615\n",
       "2   B005Y6F4WO      191.0        44       4.340909\n",
       "29  B008U1Q4DI      276.0        64       4.312500\n",
       "43  B00D6EDGYE      176.0        41       4.292683\n",
       "26  B008MP481M      214.0        50       4.280000\n",
       "32  B009GEUPDS      196.0        46       4.260870\n",
       "19  B007TNHQOY      234.0        55       4.254545\n",
       "39  B00A76CPUA      225.0        53       4.245283\n",
       "20  B0083QNBCM      178.0        42       4.238095\n",
       "10  B006L1DNWY      328.0        78       4.205128\n",
       "34  B009GYVMAS      189.0        45       4.200000\n",
       "28  B008U12YV4      281.0        67       4.194030\n",
       "15  B006ZBP8NM      155.0        37       4.189189\n",
       "13  B006U98T08      195.0        47       4.148936\n",
       "0   B005X2F7KI      145.0        35       4.142857\n",
       "16  B0079R6BD2      157.0        38       4.131579\n",
       "21  B0085WHBHU      165.0        40       4.125000\n",
       "7   B0069FDR96      373.0        91       4.098901\n",
       "22  B008B4FKLG      208.0        51       4.078431\n",
       "4   B0067F28ZW      159.0        39       4.076923\n",
       "30  B0090UJFYI      163.0        40       4.075000\n",
       "40  B00C7DYBX0      203.0        50       4.060000\n",
       "45  B00E68O4JU      157.0        40       3.925000\n",
       "12  B006SVCY6I      211.0        54       3.907407\n",
       "23  B008CEDY5O      209.0        55       3.800000\n",
       "11  B006QO4BRM      150.0        41       3.658537\n",
       "38  B00A51LI1O      172.0        48       3.583333\n",
       "5   B0067F8BBM      166.0        47       3.531915\n",
       "17  B007BLN17K      263.0        76       3.460526\n",
       "31  B009FIF1RU      125.0        37       3.378378\n",
       "6   B0068Y6CA4      179.0        53       3.377358\n",
       "37  B009T47YZ2      165.0        49       3.367347\n",
       "25  B008LDFU26      157.0        47       3.340426\n",
       "24  B008GOR6O0      123.0        37       3.324324\n",
       "1   B005XIDZHO      128.0        39       3.282051\n",
       "9   B006K9OQSC      146.0        46       3.173913"
      ]
     },
     "execution_count": 245,
     "metadata": {},
     "output_type": "execute_result"
    }
   ],
   "source": [
    "train_data_merged_grouped.sort_values('averagerating',ascending=False)"
   ]
  },
  {
   "cell_type": "code",
   "execution_count": 246,
   "metadata": {},
   "outputs": [
    {
     "data": {
      "text/html": [
       "<div>\n",
       "<style scoped>\n",
       "    .dataframe tbody tr th:only-of-type {\n",
       "        vertical-align: middle;\n",
       "    }\n",
       "\n",
       "    .dataframe tbody tr th {\n",
       "        vertical-align: top;\n",
       "    }\n",
       "\n",
       "    .dataframe thead th {\n",
       "        text-align: right;\n",
       "    }\n",
       "</style>\n",
       "<table border=\"1\" class=\"dataframe\">\n",
       "  <thead>\n",
       "    <tr style=\"text-align: right;\">\n",
       "      <th></th>\n",
       "      <th>ProductId</th>\n",
       "      <th>ratingsum</th>\n",
       "      <th>noofuser</th>\n",
       "      <th>averagerating</th>\n",
       "    </tr>\n",
       "  </thead>\n",
       "  <tbody>\n",
       "    <tr>\n",
       "      <th>18</th>\n",
       "      <td>B007Q0WW0S</td>\n",
       "      <td>271.0</td>\n",
       "      <td>56</td>\n",
       "      <td>4.839286</td>\n",
       "    </tr>\n",
       "    <tr>\n",
       "      <th>42</th>\n",
       "      <td>B00CNOUZE2</td>\n",
       "      <td>252.0</td>\n",
       "      <td>53</td>\n",
       "      <td>4.754717</td>\n",
       "    </tr>\n",
       "    <tr>\n",
       "      <th>44</th>\n",
       "      <td>B00D9NV20C</td>\n",
       "      <td>175.0</td>\n",
       "      <td>37</td>\n",
       "      <td>4.729730</td>\n",
       "    </tr>\n",
       "    <tr>\n",
       "      <th>33</th>\n",
       "      <td>B009GIOVKC</td>\n",
       "      <td>202.0</td>\n",
       "      <td>43</td>\n",
       "      <td>4.697674</td>\n",
       "    </tr>\n",
       "    <tr>\n",
       "      <th>27</th>\n",
       "      <td>B008TBTA6C</td>\n",
       "      <td>165.0</td>\n",
       "      <td>36</td>\n",
       "      <td>4.583333</td>\n",
       "    </tr>\n",
       "  </tbody>\n",
       "</table>\n",
       "</div>"
      ],
      "text/plain": [
       "     ProductId  ratingsum  noofuser  averagerating\n",
       "18  B007Q0WW0S      271.0        56       4.839286\n",
       "42  B00CNOUZE2      252.0        53       4.754717\n",
       "44  B00D9NV20C      175.0        37       4.729730\n",
       "33  B009GIOVKC      202.0        43       4.697674\n",
       "27  B008TBTA6C      165.0        36       4.583333"
      ]
     },
     "execution_count": 246,
     "metadata": {},
     "output_type": "execute_result"
    }
   ],
   "source": [
    "# Top 5 sản phẩm phổ biến\n",
    "train_data_merged_grouped.sort_values('averagerating',ascending=False).head(5)"
   ]
  },
  {
   "cell_type": "code",
   "execution_count": 247,
   "metadata": {},
   "outputs": [],
   "source": [
    "del train_data_grouped\n",
    "del train_data_grouped_rating\n",
    "del train_data_merged_grouped"
   ]
  },
  {
   "cell_type": "code",
   "execution_count": 248,
   "metadata": {},
   "outputs": [],
   "source": [
    "from surprise import KNNWithMeans\n",
    "from surprise import Dataset\n",
    "from surprise import accuracy\n",
    "from surprise import Reader\n",
    "from surprise.model_selection import train_test_split"
   ]
  },
  {
   "cell_type": "code",
   "execution_count": 249,
   "metadata": {},
   "outputs": [],
   "source": [
    "#Tải khung dữ liệu đến bất ngờ. Quan sát: Có lỗi bộ nhớ nên chỉ xem xét gần 1% của tập dữ liệu gốc !!\n",
    "data_set_buffer_with_threshold50 = data_set_buffer_with_threshold50.sample(frac=0.01)\n",
    "data = Dataset.load_from_df(data_set_buffer_with_threshold50,Reader(rating_scale=(1, 5)))\n",
    "trainset, testset = train_test_split(data, test_size=0.25)"
   ]
  },
  {
   "cell_type": "code",
   "execution_count": 250,
   "metadata": {},
   "outputs": [
    {
     "name": "stdout",
     "output_type": "stream",
     "text": [
      "Estimating biases using als...\n",
      "Computing the pearson_baseline similarity matrix...\n",
      "Done computing similarity matrix.\n"
     ]
    },
    {
     "data": {
      "text/plain": [
       "<surprise.prediction_algorithms.knns.KNNWithMeans at 0x1895f7be370>"
      ]
     },
     "execution_count": 250,
     "metadata": {},
     "output_type": "execute_result"
    }
   ],
   "source": [
    "# Sử dụng user_based true / false để chuyển đổi giữa lọc cộng tác dựa trên người dùng hoặc dựa trên mục\n",
    "userusercollaborativefiltering = KNNWithMeans(k=5, sim_options={'name': 'pearson_baseline', 'user_based': True})\n",
    "userusercollaborativefiltering.fit(trainset)"
   ]
  },
  {
   "cell_type": "code",
   "execution_count": 251,
   "metadata": {},
   "outputs": [
    {
     "data": {
      "text/plain": [
       "24"
      ]
     },
     "execution_count": 251,
     "metadata": {},
     "output_type": "execute_result"
    }
   ],
   "source": [
    "trainset.n_users"
   ]
  },
  {
   "cell_type": "code",
   "execution_count": 252,
   "metadata": {},
   "outputs": [],
   "source": [
    "test_pred = userusercollaborativefiltering.test(testset)\n"
   ]
  },
  {
   "cell_type": "code",
   "execution_count": 253,
   "metadata": {},
   "outputs": [
    {
     "name": "stdout",
     "output_type": "stream",
     "text": [
      "User-based Model : Test Set RMSE score\n",
      "RMSE: 0.8858\n"
     ]
    },
    {
     "data": {
      "text/plain": [
       "0.8858454843945543"
      ]
     },
     "execution_count": 253,
     "metadata": {},
     "output_type": "execute_result"
    }
   ],
   "source": [
    "#RMSE\n",
    "print(\"User-based Model : Test Set RMSE score\")\n",
    "accuracy.rmse(test_pred, verbose=True)\n"
   ]
  }
 ],
 "metadata": {
  "kernelspec": {
   "display_name": "Python 3.9.13 64-bit",
   "language": "python",
   "name": "python3"
  },
  "language_info": {
   "codemirror_mode": {
    "name": "ipython",
    "version": 3
   },
   "file_extension": ".py",
   "mimetype": "text/x-python",
   "name": "python",
   "nbconvert_exporter": "python",
   "pygments_lexer": "ipython3",
   "version": "3.9.13"
  },
  "orig_nbformat": 4,
  "vscode": {
   "interpreter": {
    "hash": "fbe58ca63fe33f9eeae9e71d10368d2b4a57f2b1b395836210cc60d362c66949"
   }
  }
 },
 "nbformat": 4,
 "nbformat_minor": 2
}
